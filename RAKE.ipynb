{
 "cells": [
  {
   "cell_type": "code",
   "execution_count": 22,
   "outputs": [],
   "source": [
    "# Imports\n",
    "import pandas\n",
    "import requests\n",
    "from sklearn.metrics.pairwise import linear_kernel\n",
    "from sklearn.feature_extraction.text import CountVectorizer\n",
    "from bs4 import BeautifulSoup as bs\n",
    "import re\n",
    "from stop_words import sw\n",
    "from utils import *\n",
    "import pandas as pd\n",
    "import matplotlib.pyplot as plt\n",
    "from wordcloud import WordCloud\n",
    "import numpy as np"
   ],
   "metadata": {
    "collapsed": false,
    "pycharm": {
     "name": "#%%\n"
    }
   }
  },
  {
   "cell_type": "markdown",
   "source": [
    "## Define the url and the BeatifulSoup parser"
   ],
   "metadata": {
    "collapsed": false
   }
  },
  {
   "cell_type": "code",
   "execution_count": 2,
   "outputs": [],
   "source": [
    "URL = \"https://en.wikipedia.org/wiki/The_Strokes\"\n",
    "\n",
    "html = requests.get(URL).text\n",
    "soup = bs(html, features=\"html.parser\")"
   ],
   "metadata": {
    "collapsed": false,
    "pycharm": {
     "name": "#%%\n"
    }
   }
  },
  {
   "cell_type": "code",
   "execution_count": 3,
   "outputs": [],
   "source": [
    "# Agrego div content\n",
    "divContent = soup.find(\"div\",{\"id\":\"content\"})"
   ],
   "metadata": {
    "collapsed": false,
    "pycharm": {
     "name": "#%%\n"
    }
   }
  },
  {
   "cell_type": "code",
   "execution_count": 4,
   "outputs": [],
   "source": [
    "# Get all text from div with id=\"content\"\n",
    "text = divContent.get_text()\n",
    "# separate all words separetly\n",
    "wordsFromText = re.split(\" |,|\\n|\\[|\\]\",text)\n",
    "pattern = \"\\n|,|\\. |\"+\" | \".join(sw)[0:-1]\n",
    "corpusFromText = re.split(pattern,text)\n",
    "wordsFromTextFiltered = list(filter(lambda word:\n",
    "                                  isValidWord(word)\n",
    "                                  ,wordsFromText))\n",
    "corpusFromTextFiltered = list(filter(lambda word:\n",
    "                                  isValidWord(word)\n",
    "                                  ,corpusFromText))\n",
    "corpusFromTextFilteredSplitted = []\n",
    "for corpus in corpusFromTextFiltered:\n",
    "    spplitedCorpus = corpus.split(\" \")\n",
    "    spplitedCorpus = list(filter(lambda word:\n",
    "                                  isValidWord(word)\n",
    "                                  ,spplitedCorpus))\n",
    "    corpusFromTextFilteredSplitted.append(spplitedCorpus)\n",
    "# wordsFromTextFiltered[0:10]"
   ],
   "metadata": {
    "collapsed": false,
    "pycharm": {
     "name": "#%%\n"
    }
   }
  },
  {
   "cell_type": "code",
   "execution_count": 5,
   "outputs": [],
   "source": [
    "# Initialize vectorizer with one gram words\n",
    "vectorizer = CountVectorizer(stop_words='english',lowercase=False)\n",
    "X = vectorizer.fit_transform(wordsFromTextFiltered)\n",
    "featuresNames = vectorizer.get_feature_names()\n"
   ],
   "metadata": {
    "collapsed": false,
    "pycharm": {
     "name": "#%%\n"
    }
   }
  },
  {
   "cell_type": "code",
   "execution_count": 6,
   "outputs": [],
   "source": [
    "# Third approach\n",
    "\n",
    "countsPerWordOnCorpus = []\n",
    "\n",
    "def getCoexistanceOnCorpus(wordA,wordB):\n",
    "    count = 0\n",
    "    for corpus in corpusFromTextFilteredSplitted:\n",
    "        count += int(wordA in corpus and wordB in corpus)\n",
    "    return count\n",
    "\n",
    "for word in featuresNames:\n",
    "    wordCoex = [word]\n",
    "    for word2 in featuresNames:\n",
    "        wordCoex.append(getCoexistanceOnCorpus(word,word2))\n",
    "    countsPerWordOnCorpus.append(wordCoex)"
   ],
   "metadata": {
    "collapsed": false,
    "pycharm": {
     "name": "#%%\n"
    }
   }
  },
  {
   "cell_type": "code",
   "source": [
    "columns = ['word']\n",
    "columns.extend(featuresNames)\n",
    "print(columns)\n",
    "df = pandas.DataFrame(countsPerWordOnCorpus,columns=columns)\n",
    "df = df.set_index('word')\n",
    "df.head()"
   ],
   "metadata": {
    "collapsed": false,
    "pycharm": {
     "name": "#%%\n"
    }
   },
   "execution_count": 11,
   "outputs": [
    {
     "name": "stdout",
     "output_type": "stream",
     "text": [
      "['word', '00', '000', '00s', '04', '06', '10', '100', '100th', '1036704585', '107', '109', '11', '118', '11th', '12', '13', '14', '15', '15th', '16', '17', '18', '19', '1970s', '1980s', '1991', '1995', '1996', '1997', '1998', '1998RCA', '1999', '20', '2000', '2000s', '2001', '2002', '2003', '2004', '2005', '2006', '2007', '2008', '2009', '2010', '2010s', '2011', '2011Commons', '2012', '2012Articles', '2013', '2014', '2015', '2016', '2017', '2017Articles', '2018', '2019', '2020', '2020s', '2021', '21', '21st', '22', '223309', '23', '24', '25', '26', '26th', '27', '28', '29', '30', '31', '32', '33', '34', '35', '36', '37', '38', '39', '40', '41', '42', '43', '44', '45', '46', '47', '48', '487', '49', '50', '51', '52', '53', '54', '55', '56', '57', '58', '59', '60', '61', '62', '63', '63rd', '64', '65', '66', '67', '68', '69', '70', '71', '72', '73', '74', '75', '76', '77', '78', '79', '80', '81', '82', '83', '84', '85', '86', '87', '88', '89', '90', '91', '92', '93', '978', '9780062233127', 'ACL', 'AHJ', 'ASCAP', 'Abnormal', 'According', 'Acts', 'Ad', 'Additional', 'Additionally', 'Adds', 'Adults', 'After', 'Again', 'Age', 'Alanis', 'Albert', 'Album', 'Album1990s', 'Albums', 'Aleksandra', 'Alex', 'Alexander', 'Alexandra', 'All', 'AllMusic', 'Alone', 'Also', 'America', 'American', 'AmericanSongwriter', 'An', 'Angeles', 'Angelo', 'Angels', 'Angles', 'Anka', 'Anniversary', 'Announce', 'Annual', 'April', 'Arcadium', 'Archived', 'Arctic', 'Are', 'Argentina', 'Arts', 'As', 'Aswad', 'At', 'Atlanta', 'Atomic', 'Aubrey', 'Aughts', 'August', 'Austin', 'Australia', 'Authority', 'Award', 'Awards', 'BNF', 'BST', 'Back', 'Background', 'Bad', 'Ball', 'Band', 'Bands', 'Bar', 'Barcelona', 'Barely', 'Barrymore', 'Bathroom', 'Bay', 'Beck', 'Behind', 'Benefit', 'Benicàssim', 'Bernie', 'Best', 'Between', 'Big', 'Billboard', 'Black', 'Blake', 'Blistein', 'Blogged', 'Blogs', 'Blondie', 'Bloom', 'Blue', 'Blur', 'Bob', 'Bock', 'Bomb', 'Books', 'Boom', 'Box', 'Brandon', 'Brasil', 'Breakdown', 'Breaking', 'Breihan', 'Bridge', 'Brien', 'Briet', 'Bright', 'Brightside', 'British', 'Britton', 'Brooklyn', 'Bruce', 'Bubble', 'Building', 'Bush', 'Bust', 'Butscher', 'Byron', 'C104', 'C81', 'CBGB', 'COM', 'CRX', 'CS1', 'Cage', 'Camino', 'Campaign', 'Can', 'Canceled', 'Cancelled', 'Candidate', 'Cantor', 'Capital', 'Capitol', 'Carling', 'Cars', 'Casablancas', 'CasablancasDiscographyStudio', 'CasablancasNikolai', 'Castles', 'Categories', 'Celebration', 'Center', 'Century', 'Chamber', 'Chester', 'Chiccarelli', 'Chile', 'Chili', 'Chorus', 'Chris', 'Chronicle', 'Chuck', 'Cisneros', 'City', 'CityPost', 'Claire', 'Clampdown', 'Clash', 'Clashmusic', 'Clemence', 'Coachella', 'Coldplay', 'Colin', 'College', 'Collins', 'Com', 'Comedown', 'Commons', 'Communications', 'Companion', 'Conan', 'Confirm', 'Connection', 'Connor', 'Consequence', 'Contents', 'Control', 'Converse', 'Coppola', 'Cops', 'Corona', 'Costigan', 'Cover', 'Critics', 'Crow', 'Crush', 'Crystal', 'Cues', 'Cult', 'Culture', 'Cure', 'Czech', 'Cómo', 'DIY', 'Daisy', 'Daniel', 'Danielle', 'Darkness', 'Dates', 'David', 'Day', 'DeRogatis', 'DeVille', 'Death', 'Debut', 'Decade', 'December', 'Decisions', 'Deeper', 'Denmark', 'Despite', 'Details', 'Dey', 'Different', 'Dimension', 'Dingwalls', 'Disagreement', 'Discography', 'Dismantle', 'Do', 'Doctor', 'Door', 'Dorian', 'Downtown', 'Drag', 'Drew', 'Drinks', 'Drive', 'Drones', 'Drugs', 'Drummer', 'Due', 'During', 'Dwight', 'EP', 'Early', 'Earth', 'East', 'Echoes', 'El', 'Electric', 'Elegantly', 'Elephant', 'Elizabeth', 'Ellis', 'Elvin', 'End', 'Enemy', 'England', 'Enough', 'Entercom', 'Entertainment', 'Eric', 'Estéreo', 'Europe', 'European', 'Evacuated', 'Eve', 'Ever', 'Explain', 'Express', 'Extended', 'External', 'Eye', 'FIB', 'FYF', 'Fab', 'Fabrizio', 'Facebook', 'Fader', 'Fans', 'Far', 'Fashion', 'Featured', 'February', 'Ferdinand', 'Fest', 'Festival', 'Festivals', 'Fifth', 'Fighters', 'File', 'Film', 'Fire', 'Fires', 'First', 'Five', 'Fleet', 'Florida', 'Flowers', 'Fogerty', 'Following', 'Foo', 'Fool', 'For', 'Ford', 'Formation', 'Formed', 'Fraiture', 'FraitureAlbert', 'France', 'Francis', 'Francisco', 'Frank', 'Franz', 'Français', 'Friends', 'From', 'Frontman', 'Fu', 'Fuji', 'Future', 'GED', 'GND', 'Galaxy', 'Garage', 'Garry', 'General', 'GenresIndie', 'Gentles', 'Georgia', 'German', 'Germany', 'Girls', 'Global', 'Globe', 'Go', 'Godrich', 'Goodman', 'Gordon', 'Governors', 'Grace', 'Grammy', 'Grammys', 'Grass', 'Greatest', 'Green', 'Greg', 'Gregg', 'Greta', 'Guardian', 'Guava', 'Guitar', 'Gus', 'Guys', 'Hall', 'Halloween', 'Hammond', 'Hampshire', 'Happened', 'Hard', 'HarperCollins', 'Has', 'Hate', 'He', 'Heart', 'Heartbreakers', 'Helman', 'Heritage', 'HiFi', 'Highway', 'His', 'History', 'HitQuarters', 'Hollywood', 'Hot', 'How', 'However', 'Huffington', 'Hultsfred', 'Hurricane', 'Hyde', 'IPC', 'ISBN', 'ISNI', 'Idiot', 'If', 'Impressions', 'In', 'Independent', 'Indie', 'Inspired', 'Instant', 'Integrated', 'Interactive', 'Internacional', 'International', 'Interview', 'Ireland', 'Is', 'Isle', 'It', 'Ize', 'Jack', 'Jagged', 'Jam', 'James', 'January', 'Japan', 'Japanese', 'Jason', 'Jazz', 'Jem', 'Joe', 'John', 'Jon', 'Josh', 'Joy', 'Jr', 'Judy', 'Juicebox', 'Julian', 'July', 'Jump', 'June', 'Just', 'Kahne', 'Kayley', 'Keep', 'Keys', 'Killers', 'Kings', 'Knees', 'Konemann', 'Korea', 'Kravitz', 'Kreps', 'LCCN', 'LCD', 'LP', 'Landmark', 'Lands', 'Lane', 'Last', 'Late', 'Later', 'Latest', 'Laurent', 'Laut', 'Lavin', 'Le', 'Lead', 'Leave', 'Led', 'Ledbetter', 'Leeds', 'Left', 'Legacy', 'Legal', 'Leon', 'Liam', 'Life', 'Light', 'Limits', 'Lipshutz', 'List', 'Listen', 'Little', 'Live', 'Lizzie', 'Lizzy', 'Llama', 'Lollapalooza', 'London', 'Los', 'Lose', 'Lou', 'Lounge', 'Love', 'Lower', 'Luck', 'Luke', 'Luna', 'Lycée', 'Lynskey', 'MGMT', 'MP3', 'Machine', 'Madison', 'Magazine', 'Maicki', 'Main', 'Manhattan', 'Many', 'March', 'Marchese', 'Mark', 'Marley', 'Masters', 'Matheny', 'May', 'Maya', 'Mayoral', 'Me', 'Media', 'Meet', 'Megapuss', 'Men', 'Mercury', 'Mets', 'Mexico', 'Michael', 'Michallon', 'Midtown', 'Milner', 'Mitchum', 'Modern', 'Molenda', 'Momentary', 'Monkeys', 'Monterrey', 'Montreux', 'Moon', 'Moonlight', 'More', 'Moretti', 'MorettiNick', 'Morgan', 'Morissette', 'Morning', 'Most', 'Mountain', 'Move', 'Mr', 'Much', 'Mulaney', 'Mulholland', 'Multiple', 'Murphy', 'Muse', 'Music', 'MusicBrainz', 'Musical', 'My', 'MySpace', 'NKC', 'NME', 'NYC', 'NYE', 'Name', 'Nathan', 'National', 'Navas', 'Neil', 'Never', 'New', 'Newie', 'News', 'Next', 'Nick', 'Nickel', 'Nigel', 'Night', 'Nikolai', 'Nirvana', 'Nite', 'Nme', 'No', 'Noah', 'North', 'Nos', 'Not', 'Notes', 'Nothing', 'November', 'Now', 'OBLIVIUS', 'Oberg', 'Observer', 'Oct', 'October', 'Ode', 'Of', 'Official', 'Old', 'On', 'Once', 'One', 'Only', 'Onward', 'Oregon', 'Orleans', 'Other', 'Our', 'Out', 'Outside', 'Over', 'Own', 'Oxegen', 'Palace', 'Paléo', 'Park', 'Past', 'Pastures', 'Patience', 'Paul', 'Peace', 'Pearl', 'Pentaport', 'Peppers', 'Perform', 'Peter', 'Petty', 'Pharrell', 'Phase', 'Photos', 'Phrazes', 'Picnic', 'Pill', 'Pitchfork', 'Player', 'Playlist', 'Points', 'Port', 'Post', 'Present', 'Pretty', 'Previewing', 'Primavera', 'Prometheus', 'Public', 'Pulp', 'Punk', 'Queen', 'RCA', 'Racetrack', 'Radio', 'Radiohead', 'Rally', 'Ramones', 'Raphael', 'Reading', 'Rebirth', 'Recording', 'Recordings', 'Records', 'Red', 'Reddit', 'Reed', 'References', 'Regina', 'Related', 'Release', 'Report', 'Reptilia', 'Republic', 'Resistance', 'Return', 'Reveals', 'Revisiting', 'Revival', 'Rick', 'Right', 'Rising', 'Rob', 'Rock', 'Rockness', 'Roffman', 'Roisin', 'Roll', 'Rolling', 'Rollingstone', 'Roman', 'Room', 'Rosey', 'Roskilde', 'Rough', 'Rubin', 'Ryan', 'SUDOC', 'SXSW', 'Sabla', 'Salavatore', 'Samsung', 'San', 'Sanders', 'Santana', 'Santigold', 'Santogold', 'Saturday', 'Scaggs', 'School', 'Sculpting', 'Seattle', 'See', 'Sept', 'September', 'Sessions', 'Shaffer', 'Shaky', 'Sheryl', 'ShortList', 'Shortlist', 'Show', 'Side', 'Silence', 'Simon', 'Simple', 'Single', 'Singles', 'Sirius', 'Skip', 'Slot', 'So', 'Social', 'Soma', 'Someday', 'Song', 'Songs', 'Songwriter', 'Sonic', 'Sorry', 'Sound', 'Soundsystem', 'South', 'Southwest', 'Spektor', 'Spin', 'Spiral', 'Splash', 'Splendour', 'Springsteen', 'Sr', 'St', 'Stadium', 'Staff', 'Stars', 'Started', 'Starting', 'States', 'Stereogum', 'Stokes', 'Stone', 'Stones', 'Strauss', 'Stream', 'Stripes', 'Strokes', 'Strokes1998', 'StrokesThe', 'Studio', 'Summer', 'Super', 'Supernatural', 'Supernova', 'Swamp', 'Sweden', 'Swift', 'Switzerland', 'Sync', 'TV', 'Take', 'Taken', 'Talk', 'Talking', 'Tampa', 'Taylor', 'Te', 'Tease', 'Television', 'Tell', 'Texas', 'That', 'The', 'The_Strokes', 'Theatre', 'Their', 'There', 'These', 'They', 'Thing', 'This', 'Threat', 'Thru', 'Thunderstorms', 'Time', 'To', 'Together', 'Tom', 'Too', 'Top', 'Torres', 'Tour', 'Towns', 'Trade', 'TradeWebsitethestrokes', 'Transit', 'Trigger', 'Tron', 'Trouble', 'Trying', 'Tuesday', 'Turchiano', 'Twitter', 'Two', 'Tyrangiel', 'U2', 'UK', 'US', 'Ultimate', 'Under', 'Underground', 'Understanding', 'United', 'University', 'Update', 'VIAF', 'Valensi', 'Valley', 'Van', 'Vanguard', 'Variety', 'Velvet', 'Venison', 'Vicky', 'Vida', 'Village', 'Viva', 'Voice', 'Void', 'Voidz', 'Voodoo', 'Vulture', 'WORLDCATID', 'Wales', 'Want', 'War', 'Warren', 'Washington', 'Waste', 'Wasted', 'Wasting', 'Watch', 'Wave', 'Way', 'We', 'Weekend', 'Weekly', 'Went', 'West', 'What', 'When', 'Where', 'While', 'White', 'Wight', 'WikidataUse', 'WikidataWikipedia', 'Wikimedia', 'Wiley', 'Will', 'Williams', 'Win', 'With', 'Women', 'Work', 'World', 'WorldCat', 'Wyatt', 'XMU', 'Year', 'Years', 'Yellow', 'Yoo', 'York', 'You', 'Young', 'Your', 'Yours', 'Ze', 'Zealand', 'Zeppelin', 'abandoned', 'acclaim', 'accolades', 'according', 'account', 'aclfestival', 'act', 'active1998', 'actress', 'added', 'addition', 'additional', 'advanced', 'ain', 'albert', 'album', 'albums', 'alike', 'alternate', 'alternative', 'anniversary', 'announced', 'announcement', 'announcing', 'annoyed', 'annual', 'appearance', 'appearances', 'appeared', 'archived', 'article', 'articles', 'artist', 'artists', 'artistsBrit', 'artistsRough', 'assistant', 'assumed', 'attacks', 'attend', 'attendance', 'attended', 'attending', 'attention', 'au', 'audioscape', 'available', 'award', 'awards', 'away', 'backing', 'backside', 'band', 'bandmates', 'bands', 'bank', 'bass', 'bassist', 'began', 'begin', 'begun', 'benefit', 'best', 'bidding', 'biggest', 'black', 'blackout', 'blue', 'blueprint', 'boarding', 'book', 'booker', 'brand', 'break', 'breakthrough', 'brief', 'bringing', 'buttocks', 'came', 'camps', 'cancelled', 'candidate', 'capitoltheatre', 'career', 'categories', 'category', 'charities', 'childhood', 'chosen', 'citation', 'cited', 'cities', 'citing', 'claimed', 'claiming', 'clarify', 'classic', 'clip', 'clockwise', 'close', 'clubs', 'coincide', 'collaborated', 'collisions', 'com', 'comMembersJulian', 'comeback', 'coming', 'commemorating', 'commencement', 'commented', 'commercial', 'commercially', 'compared', 'compiled', 'complete', 'completed', 'composed', 'concerns', 'concert', 'concerts', 'conducted', 'confirm', 'confirmed', 'confirming', 'connected', 'considered', 'consisted', 'contained', 'contemporaries', 'contract', 'control', 'controversy', 'copies', 'copy', 'correctly', 'couple', 'cover', 'coverage', 'crazy', 'credited', 'critical', 'critically', 'critics', 'crowd', 'cut', 'cute', 'data', 'date', 'dates', 'day', 'death', 'debut', 'debuted', 'decade', 'decided', 'dedication', 'delayed', 'demo', 'departure', 'depressed', 'described', 'description', 'descriptionShort', 'determine', 'different', 'digital', 'directed', 'directing', 'direction', 'disagreements', 'disappointed', 'dischevelment', 'discography', 'discovered', 'distinct', 'documentary', 'don', 'door', 'download', 'downloaded', 'drugs', 'drummer', 'drums', 'dwindling', 'eager', 'earliest', 'early', 'earned', 'en', 'encyclopedia', 'end', 'ended', 'enduring', 'engaging', 'engineer', 'entering', 'entire', 'entitled', 'episode', 'era', 'established', 'establishments', 'eventually', 'evoking', 'excited', 'exclusive', 'expected', 'experiment', 'expressed', 'extensive', 'fabrizio', 'fact', 'failed', 'familiar', 'fans', 'favor', 'feature', 'featured', 'features', 'featuring', 'feel', 'felt', 'festival', 'festivals', 'festivities', 'fieldAll', 'fifth', 'film', 'filmed', 'final', 'finding', 'finished', 'follow', 'followed', 'following', 'forced', 'forcing', 'form', 'formally', 'formats', 'formed', 'fourteen', 'fourth', 'free', 'frequented', 'friend', 'frontman', 'frustrated', 'future', 'futuristic', 'garage', 'gave', 'gea', 'getting', 'gig', 'girlfriend', 'global', 'gloved', 'glowing', 'gold', 'got', 'group', 'groups', 'groupsMusical', 'guardian', 'guest', 'guests', 'guitar', 'guitarist', 'guitarists', 'hCardsInfobox', 'hammond', 'hand', 'heading', 'headline', 'headlined', 'headliner', 'headliners', 'headlining', 'heard', 'hearing', 'heavily', 'held', 'helmed', 'help', 'hiatus', 'hibernation', 'hinted', 'hit', 'holiday', 'home', 'hooks', 'hosting', 'https', 'hustle', 'iTunes', 'ideas', 'identifiers', 'identifiersWikipedia', 'impact', 'inactive', 'inaugural', 'include', 'included', 'includes', 'including', 'index', 'indicated', 'indie', 'individual', 'inflammatory', 'influence', 'influenced', 'influences', 'influential', 'informal', 'informationOriginNew', 'infrequent', 'initial', 'initially', 'inspired', 'instances', 'instead', 'intensely', 'intent', 'interactive', 'interlude', 'interview', 'interviewed', 'interviews', 'intimate', 'invalid', 'invited', 'involved', 'issue', 'issues', 'job', 'join', 'joined', 'journalism', 'jr', 'karaoke', 'keyboard', 'keyboards', 'kicked', 'kind', 'knew', 'know', 'known', 'la', 'label', 'labels', 'language', 'largest', 'late', 'later', 'lead', 'leading', 'leak', 'leaked', 'leave', 'led', 'left', 'leftover', 'leg', 'legendary', 'length', 'libraries', 'like', 'likelihood', 'link', 'links', 'list', 'listed', 'listen', 'listing', 'lists', 'live', 'll', 'long', 'longer', 'longest', 'look', 'looking', 'lot', 'lukewarm', 'lyrics', 'magazine', 'mail', 'mainly', 'maint', 'maintained', 'major', 'make', 'making', 'manager', 'manner', 'master', 'match', 'matches', 'material', 'matter', 'mayoral', 'mdy', 'media', 'member', 'members', 'met', 'mid', 'million', 'mind', 'mini', 'missing', 'mixed', 'mixing', 'mixture', 'month', 'monthly', 'moretti', 'moved', 'music', 'musical', 'naked', 'named', 'navigation', 'needed', 'new', 'newborn', 'newly', 'news', 'nick', 'night', 'nights', 'ninety', 'ninth', 'nominated', 'nominations', 'noted', 'number', 'numerous', 'obstacles', 'occasions', 'official', 'officially', 'oldid', 'online', 'opened', 'org', 'page', 'painful', 'particle', 'past', 'people', 'percent', 'percussion', 'perfect', 'perform', 'performance', 'performances', 'performed', 'performing', 'period', 'personalities', 'photo', 'photographer', 'photos', 'php', 'physical', 'picton', 'place', 'placed', 'plan', 'planned', 'planning', 'plans', 'play', 'played', 'playing', 'plays', 'plenty', 'poetry', 'point', 'points', 'pop', 'popular', 'portal', 'portalNew', 'portrayed', 'possible', 'post', 'posted', 'potential', 'potentially', 'pp', 'practiced', 'praise', 'premiered', 'present', 'presentLabelsCultRCARough', 'presidential', 'previewing', 'previous', 'previously', 'prior', 'problems', 'process', 'produce', 'produced', 'producer', 'producers', 'producing', 'production', 'profile', 'projects', 'promotion', 'promotional', 'publication', 'published', 'pull', 'punk', 'putting', 'quality', 'quintetsHidden', 'quit', 'radio', 'rained', 'rally', 'ranks', 'react', 'reaction', 'readers', 'readiness', 'real', 'reason', 'reasons', 'received', 'receiving', 'recent', 'reception', 'reconnected', 'record', 'recorded', 'recording', 'reference', 'reformed', 'refrain', 'rehearsals', 'rehearsing', 'related', 'relationship', 'relatively', 'release', 'released', 'remained', 'remix', 'replaced', 'reportedly', 'reserved', 'respect', 'respectively', 'rest', 'retrieved', 'return', 'returned', 'revealed', 'reveals', 'review', 'reviews', 'revival', 'revivalYears', 'revivalpost', 'rhythm', 'riptide', 'rivalry', 'rock', 'rockgarage', 'roll', 'romantic', 'roommates', 'roster', 'rumor', 'said', 'sales', 'sang', 'saved', 'say', 'scale', 'scene', 'schedule', 'school', 'scientific', 'scooped', 'search', 'second', 'secret', 'self', 'semi', 'sent', 'series', 'services', 'sessions', 'set', 'seven', 'sex', 'sexy', 'shared', 'shoe', 'short', 'shown', 'shows', 'signing', 'similar', 'singer', 'singing', 'single', 'singles', 'site', 'situations', 'sixth', 'slated', 'slot', 'slots', 'slow', 'slowly', 'smart', 'social', 'sold', 'solo', 'somewhat', 'song', 'songs', 'songwriter', 'soon', 'sound', 'sounded', 'sounds', 'sources', 'space', 'sparked', 'sparking', 'speaking', 'split', 'stage', 'stalwarts', 'stars', 'started', 'state', 'stated', 'statements', 'statementsArticles', 'stating', 'station', 'stints', 'strokes', 'strong', 'studio', 'style', 'sub', 'subpages', 'subsequently', 'success', 'successes', 'successful', 'summer', 'supercollaborative', 'support', 'supposed', 'surely', 'survey', 'switch', 'taken', 'takes', 'taking', 'talk', 'talks', 'techniques', 'teenagers', 'thanks', 'theoretical', 'thoughts', 'threw', 'tickets', 'time', 'tirelessly', 'title', 'titleArticles', 'titled', 'today', 'told', 'took', 'tops', 'tour', 'toured', 'touring', 'tours', 'track', 'tracking', 'tremendous', 'tried', 'tweet', 'tweeted', 'uk', 'underwater', 'unknowns', 'unreleased', 'unsourced', 'untitled', 'unveil', 'upcoming', 'upgrade', 'upstate', 'urged', 'used', 'user', 'valensi', 'various', 've', 'venue', 'version', 'vibe', 'video', 'videos', 'vocals', 'vocational', 'von', 'vteAlbert', 'vteGrammy', 'vteJulian', 'vteThe', 'wait', 'wake', 'want', 'war', 'warriors', 'way', 'website', 'week', 'weekend', 'weeks', 'weird', 'went', 'white', 'widespread', 'wikipedia', 'win', 'winnersIndie', 'winnersMusical', 'winnersNME', 'winning', 'woman', 'work', 'working', 'works', 'world', 'worldwide', 'worst', 'worth', 'writing', 'written', 'wrote', 'year', 'years', 'yielded', 'young']\n"
     ]
    },
    {
     "data": {
      "text/plain": "      00  000  00s  04  06  10  100  100th  1036704585  107  ...  worldwide  \\\nword                                                         ...              \n00     0    0    0   0   0   0    0      0           0    0  ...          0   \n000    0    1    0   0   0   0    0      0           0    0  ...          0   \n00s    0    0    0   0   0   0    0      0           0    0  ...          0   \n04     0    0    0   0   0   0    0      0           0    0  ...          0   \n06     0    0    0   0   0   0    0      0           0    0  ...          0   \n\n      worst  worth  writing  written  wrote  year  years  yielded  young  \nword                                                                      \n00        0      0        0        0      0     0      0        0      0  \n000       0      0        0        0      0     0      0        0      0  \n00s       0      0        0        0      0     0      0        0      0  \n04        0      0        0        0      0     0      0        0      0  \n06        0      0        0        0      0     0      0        0      0  \n\n[5 rows x 1778 columns]",
      "text/html": "<div>\n<style scoped>\n    .dataframe tbody tr th:only-of-type {\n        vertical-align: middle;\n    }\n\n    .dataframe tbody tr th {\n        vertical-align: top;\n    }\n\n    .dataframe thead th {\n        text-align: right;\n    }\n</style>\n<table border=\"1\" class=\"dataframe\">\n  <thead>\n    <tr style=\"text-align: right;\">\n      <th></th>\n      <th>00</th>\n      <th>000</th>\n      <th>00s</th>\n      <th>04</th>\n      <th>06</th>\n      <th>10</th>\n      <th>100</th>\n      <th>100th</th>\n      <th>1036704585</th>\n      <th>107</th>\n      <th>...</th>\n      <th>worldwide</th>\n      <th>worst</th>\n      <th>worth</th>\n      <th>writing</th>\n      <th>written</th>\n      <th>wrote</th>\n      <th>year</th>\n      <th>years</th>\n      <th>yielded</th>\n      <th>young</th>\n    </tr>\n    <tr>\n      <th>word</th>\n      <th></th>\n      <th></th>\n      <th></th>\n      <th></th>\n      <th></th>\n      <th></th>\n      <th></th>\n      <th></th>\n      <th></th>\n      <th></th>\n      <th></th>\n      <th></th>\n      <th></th>\n      <th></th>\n      <th></th>\n      <th></th>\n      <th></th>\n      <th></th>\n      <th></th>\n      <th></th>\n      <th></th>\n    </tr>\n  </thead>\n  <tbody>\n    <tr>\n      <th>00</th>\n      <td>0</td>\n      <td>0</td>\n      <td>0</td>\n      <td>0</td>\n      <td>0</td>\n      <td>0</td>\n      <td>0</td>\n      <td>0</td>\n      <td>0</td>\n      <td>0</td>\n      <td>...</td>\n      <td>0</td>\n      <td>0</td>\n      <td>0</td>\n      <td>0</td>\n      <td>0</td>\n      <td>0</td>\n      <td>0</td>\n      <td>0</td>\n      <td>0</td>\n      <td>0</td>\n    </tr>\n    <tr>\n      <th>000</th>\n      <td>0</td>\n      <td>1</td>\n      <td>0</td>\n      <td>0</td>\n      <td>0</td>\n      <td>0</td>\n      <td>0</td>\n      <td>0</td>\n      <td>0</td>\n      <td>0</td>\n      <td>...</td>\n      <td>0</td>\n      <td>0</td>\n      <td>0</td>\n      <td>0</td>\n      <td>0</td>\n      <td>0</td>\n      <td>0</td>\n      <td>0</td>\n      <td>0</td>\n      <td>0</td>\n    </tr>\n    <tr>\n      <th>00s</th>\n      <td>0</td>\n      <td>0</td>\n      <td>0</td>\n      <td>0</td>\n      <td>0</td>\n      <td>0</td>\n      <td>0</td>\n      <td>0</td>\n      <td>0</td>\n      <td>0</td>\n      <td>...</td>\n      <td>0</td>\n      <td>0</td>\n      <td>0</td>\n      <td>0</td>\n      <td>0</td>\n      <td>0</td>\n      <td>0</td>\n      <td>0</td>\n      <td>0</td>\n      <td>0</td>\n    </tr>\n    <tr>\n      <th>04</th>\n      <td>0</td>\n      <td>0</td>\n      <td>0</td>\n      <td>0</td>\n      <td>0</td>\n      <td>0</td>\n      <td>0</td>\n      <td>0</td>\n      <td>0</td>\n      <td>0</td>\n      <td>...</td>\n      <td>0</td>\n      <td>0</td>\n      <td>0</td>\n      <td>0</td>\n      <td>0</td>\n      <td>0</td>\n      <td>0</td>\n      <td>0</td>\n      <td>0</td>\n      <td>0</td>\n    </tr>\n    <tr>\n      <th>06</th>\n      <td>0</td>\n      <td>0</td>\n      <td>0</td>\n      <td>0</td>\n      <td>0</td>\n      <td>0</td>\n      <td>0</td>\n      <td>0</td>\n      <td>0</td>\n      <td>0</td>\n      <td>...</td>\n      <td>0</td>\n      <td>0</td>\n      <td>0</td>\n      <td>0</td>\n      <td>0</td>\n      <td>0</td>\n      <td>0</td>\n      <td>0</td>\n      <td>0</td>\n      <td>0</td>\n    </tr>\n  </tbody>\n</table>\n<p>5 rows × 1778 columns</p>\n</div>"
     },
     "execution_count": 11,
     "metadata": {},
     "output_type": "execute_result"
    }
   ]
  },
  {
   "cell_type": "code",
   "execution_count": 37,
   "outputs": [
    {
     "data": {
      "text/plain": "             00  000  00s  04  06  10  100  100th  1036704585  107  ...  \\\nword                                                                ...   \nImpressions   0    0    0   0   0   0    0      0           0    0  ...   \nAbnormal      0    0    0   0   0   0    0      0           0    0  ...   \nFighters      0    0    0   0   0   0    0      0           0    0  ...   \nFoo           0    0    0   0   0   0    0      0           0    0  ...   \nPitchfork     0    0    0   0   0   0    0      0           0    0  ...   \ntime          0    0    0   0   0   0    0      0           0    0  ...   \nAge           0    0    0   0   0   0    0      0           0    0  ...   \nEarth         0    0    0   0   0   0    0      0           0    0  ...   \nStone         0    0    0   0   0   0    0      0           0    0  ...   \nAngeles       0    0    0   0   0   0    0      0           0    0  ...   \n\n             worst  worth  writing  written  wrote  year  years  yielded  \\\nword                                                                       \nImpressions      0      0        0        0      0     0      0        0   \nAbnormal         0      0        0        0      0     0      0        0   \nFighters         0      0        0        0      0     0      0        0   \nFoo              0      0        0        0      0     0      0        0   \nPitchfork        0      0        0        0      0     0      0        0   \ntime             0      0        0        0      0     0      0        0   \nAge              0      0        0        0      0     0      0        0   \nEarth            0      0        0        0      0     0      0        0   \nStone            0      0        0        0      0     0      0        0   \nAngeles          0      0        0        0      0     0      0        0   \n\n             young      score  \nword                           \nImpressions      0  11.499805  \nAbnormal         0   9.333324  \nFighters         0   7.992188  \nFoo              0   7.992188  \nPitchfork        0   7.992188  \ntime             0   7.992188  \nAge              0   6.749999  \nEarth            0   6.499890  \nStone            0   6.400000  \nAngeles          0   5.994141  \n\n[10 rows x 1779 columns]",
      "text/html": "<div>\n<style scoped>\n    .dataframe tbody tr th:only-of-type {\n        vertical-align: middle;\n    }\n\n    .dataframe tbody tr th {\n        vertical-align: top;\n    }\n\n    .dataframe thead th {\n        text-align: right;\n    }\n</style>\n<table border=\"1\" class=\"dataframe\">\n  <thead>\n    <tr style=\"text-align: right;\">\n      <th></th>\n      <th>00</th>\n      <th>000</th>\n      <th>00s</th>\n      <th>04</th>\n      <th>06</th>\n      <th>10</th>\n      <th>100</th>\n      <th>100th</th>\n      <th>1036704585</th>\n      <th>107</th>\n      <th>...</th>\n      <th>worst</th>\n      <th>worth</th>\n      <th>writing</th>\n      <th>written</th>\n      <th>wrote</th>\n      <th>year</th>\n      <th>years</th>\n      <th>yielded</th>\n      <th>young</th>\n      <th>score</th>\n    </tr>\n    <tr>\n      <th>word</th>\n      <th></th>\n      <th></th>\n      <th></th>\n      <th></th>\n      <th></th>\n      <th></th>\n      <th></th>\n      <th></th>\n      <th></th>\n      <th></th>\n      <th></th>\n      <th></th>\n      <th></th>\n      <th></th>\n      <th></th>\n      <th></th>\n      <th></th>\n      <th></th>\n      <th></th>\n      <th></th>\n      <th></th>\n    </tr>\n  </thead>\n  <tbody>\n    <tr>\n      <th>Impressions</th>\n      <td>0</td>\n      <td>0</td>\n      <td>0</td>\n      <td>0</td>\n      <td>0</td>\n      <td>0</td>\n      <td>0</td>\n      <td>0</td>\n      <td>0</td>\n      <td>0</td>\n      <td>...</td>\n      <td>0</td>\n      <td>0</td>\n      <td>0</td>\n      <td>0</td>\n      <td>0</td>\n      <td>0</td>\n      <td>0</td>\n      <td>0</td>\n      <td>0</td>\n      <td>11.499805</td>\n    </tr>\n    <tr>\n      <th>Abnormal</th>\n      <td>0</td>\n      <td>0</td>\n      <td>0</td>\n      <td>0</td>\n      <td>0</td>\n      <td>0</td>\n      <td>0</td>\n      <td>0</td>\n      <td>0</td>\n      <td>0</td>\n      <td>...</td>\n      <td>0</td>\n      <td>0</td>\n      <td>0</td>\n      <td>0</td>\n      <td>0</td>\n      <td>0</td>\n      <td>0</td>\n      <td>0</td>\n      <td>0</td>\n      <td>9.333324</td>\n    </tr>\n    <tr>\n      <th>Fighters</th>\n      <td>0</td>\n      <td>0</td>\n      <td>0</td>\n      <td>0</td>\n      <td>0</td>\n      <td>0</td>\n      <td>0</td>\n      <td>0</td>\n      <td>0</td>\n      <td>0</td>\n      <td>...</td>\n      <td>0</td>\n      <td>0</td>\n      <td>0</td>\n      <td>0</td>\n      <td>0</td>\n      <td>0</td>\n      <td>0</td>\n      <td>0</td>\n      <td>0</td>\n      <td>7.992188</td>\n    </tr>\n    <tr>\n      <th>Foo</th>\n      <td>0</td>\n      <td>0</td>\n      <td>0</td>\n      <td>0</td>\n      <td>0</td>\n      <td>0</td>\n      <td>0</td>\n      <td>0</td>\n      <td>0</td>\n      <td>0</td>\n      <td>...</td>\n      <td>0</td>\n      <td>0</td>\n      <td>0</td>\n      <td>0</td>\n      <td>0</td>\n      <td>0</td>\n      <td>0</td>\n      <td>0</td>\n      <td>0</td>\n      <td>7.992188</td>\n    </tr>\n    <tr>\n      <th>Pitchfork</th>\n      <td>0</td>\n      <td>0</td>\n      <td>0</td>\n      <td>0</td>\n      <td>0</td>\n      <td>0</td>\n      <td>0</td>\n      <td>0</td>\n      <td>0</td>\n      <td>0</td>\n      <td>...</td>\n      <td>0</td>\n      <td>0</td>\n      <td>0</td>\n      <td>0</td>\n      <td>0</td>\n      <td>0</td>\n      <td>0</td>\n      <td>0</td>\n      <td>0</td>\n      <td>7.992188</td>\n    </tr>\n    <tr>\n      <th>time</th>\n      <td>0</td>\n      <td>0</td>\n      <td>0</td>\n      <td>0</td>\n      <td>0</td>\n      <td>0</td>\n      <td>0</td>\n      <td>0</td>\n      <td>0</td>\n      <td>0</td>\n      <td>...</td>\n      <td>0</td>\n      <td>0</td>\n      <td>0</td>\n      <td>0</td>\n      <td>0</td>\n      <td>0</td>\n      <td>0</td>\n      <td>0</td>\n      <td>0</td>\n      <td>7.992188</td>\n    </tr>\n    <tr>\n      <th>Age</th>\n      <td>0</td>\n      <td>0</td>\n      <td>0</td>\n      <td>0</td>\n      <td>0</td>\n      <td>0</td>\n      <td>0</td>\n      <td>0</td>\n      <td>0</td>\n      <td>0</td>\n      <td>...</td>\n      <td>0</td>\n      <td>0</td>\n      <td>0</td>\n      <td>0</td>\n      <td>0</td>\n      <td>0</td>\n      <td>0</td>\n      <td>0</td>\n      <td>0</td>\n      <td>6.749999</td>\n    </tr>\n    <tr>\n      <th>Earth</th>\n      <td>0</td>\n      <td>0</td>\n      <td>0</td>\n      <td>0</td>\n      <td>0</td>\n      <td>0</td>\n      <td>0</td>\n      <td>0</td>\n      <td>0</td>\n      <td>0</td>\n      <td>...</td>\n      <td>0</td>\n      <td>0</td>\n      <td>0</td>\n      <td>0</td>\n      <td>0</td>\n      <td>0</td>\n      <td>0</td>\n      <td>0</td>\n      <td>0</td>\n      <td>6.499890</td>\n    </tr>\n    <tr>\n      <th>Stone</th>\n      <td>0</td>\n      <td>0</td>\n      <td>0</td>\n      <td>0</td>\n      <td>0</td>\n      <td>0</td>\n      <td>0</td>\n      <td>0</td>\n      <td>0</td>\n      <td>0</td>\n      <td>...</td>\n      <td>0</td>\n      <td>0</td>\n      <td>0</td>\n      <td>0</td>\n      <td>0</td>\n      <td>0</td>\n      <td>0</td>\n      <td>0</td>\n      <td>0</td>\n      <td>6.400000</td>\n    </tr>\n    <tr>\n      <th>Angeles</th>\n      <td>0</td>\n      <td>0</td>\n      <td>0</td>\n      <td>0</td>\n      <td>0</td>\n      <td>0</td>\n      <td>0</td>\n      <td>0</td>\n      <td>0</td>\n      <td>0</td>\n      <td>...</td>\n      <td>0</td>\n      <td>0</td>\n      <td>0</td>\n      <td>0</td>\n      <td>0</td>\n      <td>0</td>\n      <td>0</td>\n      <td>0</td>\n      <td>0</td>\n      <td>5.994141</td>\n    </tr>\n  </tbody>\n</table>\n<p>10 rows × 1779 columns</p>\n</div>"
     },
     "execution_count": 37,
     "metadata": {},
     "output_type": "execute_result"
    }
   ],
   "source": [
    "def getScore(row):\n",
    "    sumRow = np.nansum(row)\n",
    "    countPositives = (row != 0).sum()\n",
    "    dividend = countPositives - 1 if countPositives > 1 else 1\n",
    "\n",
    "    return dividend if dividend == 1 else sumRow/dividend\n",
    "\n",
    "df['score'] = df.apply(lambda row: getScore(row),axis=1)\n",
    "df = df.sort_values(by=['score'],ascending=False)\n",
    "df.head(10)"
   ],
   "metadata": {
    "collapsed": false,
    "pycharm": {
     "name": "#%%\n"
    }
   }
  },
  {
   "cell_type": "markdown",
   "source": [
    "## This approach did not result well, the output was not tthe expected result\n"
   ],
   "metadata": {
    "collapsed": false,
    "pycharm": {
     "name": "#%% md\n"
    }
   }
  }
 ],
 "metadata": {
  "kernelspec": {
   "display_name": "Python 3",
   "language": "python",
   "name": "python3"
  },
  "language_info": {
   "codemirror_mode": {
    "name": "ipython",
    "version": 2
   },
   "file_extension": ".py",
   "mimetype": "text/x-python",
   "name": "python",
   "nbconvert_exporter": "python",
   "pygments_lexer": "ipython2",
   "version": "2.7.6"
  }
 },
 "nbformat": 4,
 "nbformat_minor": 0
}